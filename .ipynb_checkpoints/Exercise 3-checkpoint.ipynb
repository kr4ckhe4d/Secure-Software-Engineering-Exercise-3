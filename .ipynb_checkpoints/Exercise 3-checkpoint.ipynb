{
 "cells": [
  {
   "cell_type": "markdown",
   "metadata": {},
   "source": [
    "# Secure Software Engineering Exercise 3"
   ]
  },
  {
   "cell_type": "markdown",
   "metadata": {},
   "source": [
    "## Name: Nipuna H Herath"
   ]
  },
  {
   "cell_type": "markdown",
   "metadata": {},
   "source": [
    "## ID: A1776057"
   ]
  },
  {
   "cell_type": "markdown",
   "metadata": {},
   "source": []
  },
  {
   "cell_type": "code",
   "execution_count": 1,
   "metadata": {},
   "outputs": [],
   "source": [
    "import numpy as np\n",
    "import pandas as pd\n",
    "import os\n",
    "\n",
    "# Specify git executable file for GitPython in Jupyter Notebook (In IDE, it can still work without this line.)\n",
    "# os.environ[\"GIT_PYTHON_GIT_EXECUTABLE\"] = \"C:\\Program Files\\Git\\cmd\\git.exe\"\n",
    "\n",
    "import git\n",
    "import re\n",
    "# from git import RemoteProgress\n",
    "\n",
    "from git import Repo\n",
    "import matplotlib.pyplot as plt\n",
    "import seaborn as sns\n",
    "%matplotlib inline"
   ]
  },
  {
   "cell_type": "markdown",
   "metadata": {},
   "source": [
    "# 1. FasterXML/jackson-databind"
   ]
  },
  {
   "cell_type": "markdown",
   "metadata": {},
   "source": [
    "### Task 3"
   ]
  },
  {
   "cell_type": "code",
   "execution_count": 2,
   "metadata": {},
   "outputs": [
    {
     "name": "stdout",
     "output_type": "stream",
     "text": [
      "\u001b[1;31mFile Name: \u001b[0mrelease-notes/VERSION\n",
      "\u001b[1;31mInsertions: \u001b[0m2\n",
      "\u001b[1;31mDeletions: \u001b[0m0\n",
      "\u001b[1;31mTotal: \u001b[0m2\n",
      "\u001b[1;31mFile Name: \u001b[0msrc/main/java/com/fasterxml/jackson/databind/deser/BeanDeserializerFactory.java\n",
      "\u001b[1;31mInsertions: \u001b[0m49\n",
      "\u001b[1;31mDeletions: \u001b[0m1\n",
      "\u001b[1;31mTotal: \u001b[0m50\n",
      "\u001b[1;31mFile Name: \u001b[0msrc/test/java/com/fasterxml/jackson/databind/interop/IllegalTypesCheckTest.java\n",
      "\u001b[1;31mInsertions: \u001b[0m40\n",
      "\u001b[1;31mDeletions: \u001b[0m0\n",
      "\u001b[1;31mTotal: \u001b[0m40\n"
     ]
    }
   ],
   "source": [
    "remote_link = \"https://github.com/FasterXML/jackson-databind\"\n",
    "local_link = \"jackson-databind\"\n",
    "\n",
    "repo = Repo(local_link)\n",
    "fixing_commit = \"60d459cedcf079c6106ae7da2ac562bc32dcabe1\"\n",
    "repo.git.checkout(fixing_commit)\n",
    "\n",
    "show_data = repo.git.show(\"--shortstat\", fixing_commit).splitlines()\n",
    "\n",
    "commit = repo.commit(fixing_commit)\n",
    "s = commit.stats\n",
    "# s.total         # full-stat-dict\n",
    "# s.files         # dict( filepath : stat-dict )\n",
    "# print(s.total) # Overall statistics\n",
    "# print(s.files) # List all the files\n",
    "\n",
    "files = s.files\n",
    "directoryList = []\n",
    "fileNames = []\n",
    "for file in files.keys():\n",
    "    fileNames.append(file)\n",
    "    print('\\x1b[1;31m'+\"File Name: \"+'\\x1b[0m'+file)\n",
    "#     print(files[file]['insertions'])\n",
    "#     print(files[file]['deletions'])\n",
    "#     print(files[file]['lines'])\n",
    "    print('\\x1b[1;31m'+\"Insertions: \"+'\\x1b[0m'+str(files[file]['insertions']))\n",
    "    print('\\x1b[1;31m'+\"Deletions: \"+'\\x1b[0m'+str(files[file]['deletions']))\n",
    "    print('\\x1b[1;31m'+\"Total: \"+'\\x1b[0m'+str(files[file]['lines']))\n",
    "\n",
    "#     if directory not in directoryList:\n",
    "#         directoryList.append(directory)"
   ]
  },
  {
   "cell_type": "code",
   "execution_count": 3,
   "metadata": {},
   "outputs": [
    {
     "name": "stdout",
     "output_type": "stream",
     "text": [
      "\u001b[1;31mFile Name: \u001b[0mrelease-notes/VERSION\n",
      "\u001b[1;31mThis line does not have an enclosing scope.\u001b[0m\n",
      "\u001b[1;31mAffected Lines: \u001b[0mLine number 11 to 13\n",
      "\u001b[1;31mMost frequently identified commit : \u001b[0m6ce32ffd\n",
      "==============================================================\n",
      "\n",
      "\u001b[1;31mFile Name: \u001b[0msrc/main/java/com/fasterxml/jackson/databind/deser/BeanDeserializerFactory.java\n",
      "\u001b[1;31mEnclosing Scope: \u001b[0mpublic class BeanDeserializerFactor\n",
      "\u001b[1;31mAffected Lines: \u001b[0mLine number 41 to 71\n",
      "\u001b[1;31mMost frequently identified commit : \u001b[0m60d459ce\n",
      "==============================================================\n",
      "\n",
      "\u001b[1;31mFile Name: \u001b[0msrc/main/java/com/fasterxml/jackson/databind/deser/BeanDeserializerFactory.java\n",
      "\u001b[1;31mEnclosing Scope: \u001b[0mpublic class BeanDeserializerFactor\n",
      "\u001b[1;31mAffected Lines: \u001b[0mLine number 169 to 171\n",
      "\u001b[1;31mMost frequently identified commit : \u001b[0m6ce32ffd\n",
      "==============================================================\n",
      "\n",
      "\u001b[1;31mFile Name: \u001b[0msrc/main/java/com/fasterxml/jackson/databind/deser/BeanDeserializerFactory.java\n",
      "\u001b[1;31mEnclosing Scope: \u001b[0mbeanDesc.getBeanClass().getName(), name, ((AnnotatedParameter) m).getIndex())\n",
      "\u001b[1;31mAffected Lines: \u001b[0mLine number 889 to 906\n",
      "\u001b[1;31mMost frequently identified commit : \u001b[0m6ce32ffd\n",
      "==============================================================\n",
      "\n",
      "\u001b[1;31mFile Name: \u001b[0msrc/test/java/com/fasterxml/jackson/databind/interop/IllegalTypesCheckTest.java\n",
      "\u001b[1;31mEnclosing Scope: \u001b[0m-0,0 +1,40 @\n",
      "\u001b[1;31mAffected Lines: \u001b[0mLine number 1 to 41\n",
      "\u001b[1;31mMost frequently identified commit : \u001b[0m6ce32ffd\n",
      "==============================================================\n",
      "\n"
     ]
    }
   ],
   "source": [
    "diff_data = repo.git.diff(\"-U0\",fixing_commit + \"^\", fixing_commit).splitlines()\n",
    "# print(diff_data)\n",
    "fileName = \"\"\n",
    "for line in diff_data:\n",
    "#     print(line)\n",
    "    if(line[0:10] == 'diff --git'):\n",
    "        fileName = line[13:line.find(' b')]\n",
    "#         print(line[12:])\n",
    "    if(line[0:3] == '@@ '):\n",
    "#         print(line)\n",
    "        start = ' +'\n",
    "        parentScopeStart = ' @@ '\n",
    "        end = ' @@'\n",
    "        s = line\n",
    "        parentScope = (s[s.find(parentScopeStart)+len(parentScopeStart):])\n",
    "        affectedLines = (s[s.find(start)+len(start):s.rfind(end)]).split(',')\n",
    "#         print(affectedLines)\n",
    "#         print(parentScope)\n",
    "        print('\\x1b[1;31m'+\"File Name: \"+'\\x1b[0m'+fileName)\n",
    "        if(\"Project\" == str(parentScope[:parentScope.find(': ')])):\n",
    "            print('\\x1b[1;31m'+\"This line does not have an enclosing scope.\"+'\\x1b[0m')\n",
    "        else:\n",
    "            print('\\x1b[1;31m'+\"Enclosing Scope: \"+'\\x1b[0m'+str(parentScope[:parentScope.find(': ')]))\n",
    "        print('\\x1b[1;31m'+\"Affected Lines: \"+'\\x1b[0m'+\"Line number \" + affectedLines[0] + \" to \"+ str((int(affectedLines[0])+int(affectedLines[1]))))\n",
    "        \n",
    "        \n",
    "        lines = \"-L\"+affectedLines[0]+\",+\"+affectedLines[1]\n",
    "\n",
    "        blame_data = repo.git.blame(lines, fixing_commit, \"--\", fileName).splitlines()\n",
    "        commits = []\n",
    "        for l in blame_data:\n",
    "            commits.append(l[0:8])\n",
    "        unique, counts = np.unique(commits, return_counts=True)\n",
    "        d = dict(zip(unique, counts))\n",
    "        mostFrequent = max(d, key=d.get)\n",
    "        print('\\x1b[1;31m'+\"Most frequently identified commit : \"+'\\x1b[0m'+mostFrequent)\n",
    "        print(\"==============================================================\")\n",
    "        print()\n",
    "#         print(mostFrequent)\n",
    "\n",
    "#     print(l)\n",
    "#     print(\"==\")\n",
    "        "
   ]
  },
  {
   "cell_type": "markdown",
   "metadata": {},
   "source": [
    "### Task 5"
   ]
  },
  {
   "cell_type": "code",
   "execution_count": 4,
   "metadata": {},
   "outputs": [
    {
     "name": "stdout",
     "output_type": "stream",
     "text": [
      "\u001b[1;31mNo parameter : \u001b[0m6ce32ffd\n",
      "\u001b[1;31mWith -w : \u001b[0m6ce32ffd\n",
      "\u001b[1;31mWith -wM : \u001b[0m6ce32ffd\n",
      "\u001b[1;31mWith -wC : \u001b[0m6ce32ffd\n",
      "\u001b[1;31mWith -wCC : \u001b[0m6ce32ffd\n",
      "\u001b[1;31mWith -wCCC : \u001b[0m6ce32ffd\n"
     ]
    }
   ],
   "source": [
    "\n",
    "        lines = \"-L\"+affectedLines[0]+\",+\"+affectedLines[1]\n",
    "\n",
    "        blame_data = repo.git.blame(lines, fixing_commit, \"--\", fileName).splitlines()\n",
    "        commits = []\n",
    "        for l in blame_data:\n",
    "            commits.append(l[0:8])\n",
    "        unique, counts = np.unique(commits, return_counts=True)\n",
    "        d = dict(zip(unique, counts))\n",
    "        mostFrequent = max(d, key=d.get)\n",
    "        print('\\x1b[1;31m'+\"No parameter : \"+'\\x1b[0m'+mostFrequent)\n",
    "        ##################################\n",
    "        blame_data = repo.git.blame(lines, fixing_commit, \"-w\", \"--\", fileName).splitlines()\n",
    "        commits = []\n",
    "        for l in blame_data:\n",
    "            commits.append(l[0:8])\n",
    "        unique, counts = np.unique(commits, return_counts=True)\n",
    "        d = dict(zip(unique, counts))\n",
    "        mostFrequent = max(d, key=d.get)\n",
    "        print('\\x1b[1;31m'+\"With -w : \"+'\\x1b[0m'+mostFrequent)\n",
    "        ##################################\n",
    "        blame_data = repo.git.blame(lines, fixing_commit, \"-wM\", \"--\", fileName).splitlines()\n",
    "        commits = []\n",
    "        for l in blame_data:\n",
    "            commits.append(l[0:8])\n",
    "        unique, counts = np.unique(commits, return_counts=True)\n",
    "        d = dict(zip(unique, counts))\n",
    "        mostFrequent = max(d, key=d.get)\n",
    "        print('\\x1b[1;31m'+\"With -wM : \"+'\\x1b[0m'+mostFrequent)\n",
    "        ##################################\n",
    "        blame_data = repo.git.blame(lines, fixing_commit, \"-wC\", \"--\", fileName).splitlines()\n",
    "        commits = []\n",
    "        for l in blame_data:\n",
    "            commits.append(l[0:8])\n",
    "        unique, counts = np.unique(commits, return_counts=True)\n",
    "        d = dict(zip(unique, counts))\n",
    "        mostFrequent = max(d, key=d.get)\n",
    "        print('\\x1b[1;31m'+\"With -wC : \"+'\\x1b[0m'+mostFrequent)\n",
    "        ##################################\n",
    "        blame_data = repo.git.blame(lines, fixing_commit, \"-wCC\", \"--\", fileName).splitlines()\n",
    "        commits = []\n",
    "        for l in blame_data:\n",
    "            commits.append(l[0:8])\n",
    "        unique, counts = np.unique(commits, return_counts=True)\n",
    "        d = dict(zip(unique, counts))\n",
    "        mostFrequent = max(d, key=d.get)\n",
    "        print('\\x1b[1;31m'+\"With -wCC : \"+'\\x1b[0m'+mostFrequent)\n",
    "        ##################################\n",
    "        blame_data = repo.git.blame(lines, fixing_commit, \"-wCCC\", \"--\", fileName).splitlines()\n",
    "        commits = []\n",
    "        for l in blame_data:\n",
    "            commits.append(l[0:8])\n",
    "        unique, counts = np.unique(commits, return_counts=True)\n",
    "        d = dict(zip(unique, counts))\n",
    "        mostFrequent = max(d, key=d.get)\n",
    "        print('\\x1b[1;31m'+\"With -wCCC : \"+'\\x1b[0m'+mostFrequent)\n",
    "        "
   ]
  },
  {
   "cell_type": "markdown",
   "metadata": {},
   "source": [
    "### Task 6"
   ]
  },
  {
   "cell_type": "markdown",
   "metadata": {},
   "source": [
    "##### a) Message and title of the VCC"
   ]
  },
  {
   "cell_type": "code",
   "execution_count": 5,
   "metadata": {},
   "outputs": [
    {
     "name": "stdout",
     "output_type": "stream",
     "text": [
      "\u001b[1;31mCommit Title:\u001b[0m    Fix #1599 for 2.7(.10)\n",
      "\u001b[1;31mCommit Message:\u001b[0m 3 files changed, 65 insertions(+)\n"
     ]
    }
   ],
   "source": [
    "show_data = repo.git.show(\"--shortstat\", mostFrequent).splitlines()\n",
    "print('\\x1b[1;31m'+\"Commit Title:\"+'\\x1b[0m'+show_data[4])\n",
    "print('\\x1b[1;31m'+\"Commit Message:\"+'\\x1b[0m'+show_data[6])"
   ]
  },
  {
   "cell_type": "markdown",
   "metadata": {},
   "source": [
    "##### b) Number of affected files of the VCC"
   ]
  },
  {
   "cell_type": "code",
   "execution_count": 6,
   "metadata": {},
   "outputs": [
    {
     "name": "stdout",
     "output_type": "stream",
     "text": [
      "release-notes/VERSION\n",
      "src/main/java/com/fasterxml/jackson/databind/deser/BeanDeserializerFactory.java\n",
      "src/test/java/com/fasterxml/jackson/databind/interop/IllegalTypesCheckTest.java\n",
      "\u001b[1;31mAffected Files:\u001b[0m3\n"
     ]
    }
   ],
   "source": [
    "commit = repo.commit(mostFrequent)\n",
    "s = commit.stats\n",
    "# s.total         # full-stat-dict\n",
    "# s.files         # dict( filepath : stat-dict )\n",
    "# print(s.total) # Overall statistics\n",
    "# print(s.files) # List all the files\n",
    "for file in s.files:\n",
    "    print(file)\n",
    "print('\\x1b[1;31m'+\"Affected Files:\"+'\\x1b[0m'+ str(s.total[\"files\"]))"
   ]
  },
  {
   "cell_type": "markdown",
   "metadata": {},
   "source": [
    "##### c) Number of affected directories of the VCC\n"
   ]
  },
  {
   "cell_type": "code",
   "execution_count": 7,
   "metadata": {},
   "outputs": [
    {
     "name": "stdout",
     "output_type": "stream",
     "text": [
      "\u001b[1;31mAffected directories:\u001b[0m\n",
      "release-notes\n",
      "src/main/java/com/fasterxml/jackson/databind/deser\n",
      "src/test/java/com/fasterxml/jackson/databind/interop\n",
      "\n",
      "\u001b[1;31mTotal:\u001b[0m\n",
      "3\n"
     ]
    }
   ],
   "source": [
    "# print(s.total) # Overall statistics\n",
    "# print(s.files) # List all the files\n",
    "files = s.files\n",
    "directoryList = []\n",
    "for file in files.keys():\n",
    "    directory = file[0:file.rfind('/')]\n",
    "#     print(directory)\n",
    "    if directory not in directoryList:\n",
    "        directoryList.append(directory)\n",
    "print('\\x1b[1;31m'+\"Affected directories:\"+'\\x1b[0m')\n",
    "for directory in directoryList:\n",
    "    print(directory)\n",
    "print()\n",
    "print('\\x1b[1;31m'+\"Total:\"+'\\x1b[0m')\n",
    "print(len(directoryList))\n",
    "    "
   ]
  },
  {
   "cell_type": "markdown",
   "metadata": {},
   "source": [
    "##### d) Total lines of code (including comments and blank lines) deleted in the VCC"
   ]
  },
  {
   "cell_type": "code",
   "execution_count": 8,
   "metadata": {},
   "outputs": [
    {
     "name": "stdout",
     "output_type": "stream",
     "text": [
      "\u001b[1;31mDeletions including blank lines:\u001b[0m0\n"
     ]
    }
   ],
   "source": [
    "diff_data = repo.git.diff(mostFrequent + \"^\", mostFrequent).splitlines()\n",
    "count = 0\n",
    "for line in diff_data:\n",
    "    if(not line[0:3] == '---'):\n",
    "        if(line[0:1] == '-'):\n",
    "            count=count+1\n",
    "print('\\x1b[1;31m'+\"Deletions including blank lines:\"+'\\x1b[0m'+str(count))"
   ]
  },
  {
   "cell_type": "markdown",
   "metadata": {},
   "source": [
    "##### e) Total lines of code (including comments and blank lines) added in the VCC"
   ]
  },
  {
   "cell_type": "code",
   "execution_count": 9,
   "metadata": {},
   "outputs": [
    {
     "name": "stdout",
     "output_type": "stream",
     "text": [
      "\u001b[1;31mInsertions including blank lines:\u001b[0m65\n"
     ]
    }
   ],
   "source": [
    "diff_data = repo.git.diff(mostFrequent + \"^\", mostFrequent).splitlines()\n",
    "count = 0\n",
    "for line in diff_data:\n",
    "    if(not line[0:3] == '+++'):\n",
    "        if(line[0:1] == '+'):\n",
    "            count=count+1\n",
    "print('\\x1b[1;31m'+\"Insertions including blank lines:\"+'\\x1b[0m'+str(count))"
   ]
  },
  {
   "cell_type": "markdown",
   "metadata": {},
   "source": [
    "##### f) Total lines of code (excluding comments and blank lines) deleted in the VCC\n"
   ]
  },
  {
   "cell_type": "code",
   "execution_count": 10,
   "metadata": {},
   "outputs": [
    {
     "name": "stdout",
     "output_type": "stream",
     "text": [
      "\u001b[1;31mDeletions excluding blank lines and comments:\u001b[0m0\n"
     ]
    }
   ],
   "source": [
    "diff_data = repo.git.diff(\"-w\",mostFrequent + \"^\", mostFrequent).splitlines()\n",
    "count = 0\n",
    "comment_started = False\n",
    "for line in diff_data:\n",
    "    if(not line[0:3] == '---'):\n",
    "        if(line.find('/*') != -1):\n",
    "            comment_started = True\n",
    "            continue\n",
    "        elif(line.find('*/') != -1):\n",
    "            comment_started = False\n",
    "            continue\n",
    "#             else:\n",
    "#             print(line + str(comment_started))\n",
    "        if(comment_started==False):\n",
    "            if(line[0:1] == '-' and not re.search(r'\\s', line) is None):\n",
    "                if(line.find('//') == -1):\n",
    "#                     print(line)\n",
    "                    count=count+1\n",
    "    \n",
    "print('\\x1b[1;31m'+\"Deletions excluding blank lines and comments:\"+'\\x1b[0m'+ str(count))"
   ]
  },
  {
   "cell_type": "markdown",
   "metadata": {},
   "source": [
    "##### g) Total lines of code (excluding comments and blank lines) added in the VCC"
   ]
  },
  {
   "cell_type": "code",
   "execution_count": 11,
   "metadata": {},
   "outputs": [
    {
     "name": "stdout",
     "output_type": "stream",
     "text": [
      "\u001b[1;31mInsertions excluding blank lines and comments:\u001b[0m47\n"
     ]
    }
   ],
   "source": [
    "diff_data = repo.git.diff(\"-w\",mostFrequent + \"^\", mostFrequent).splitlines()\n",
    "count = 0\n",
    "comment_started = False\n",
    "for line in diff_data:\n",
    "    if(not line[0:3] == '+++'):\n",
    "        if(line.find('/*') != -1):\n",
    "            comment_started = True\n",
    "            continue\n",
    "        elif(line.find('*/') != -1):\n",
    "            comment_started = False\n",
    "            continue\n",
    "#             else:\n",
    "#             print(line + str(comment_started))\n",
    "        if(comment_started==False):\n",
    "            if(line[0:1] == '+' and not re.search(r'\\s', line) is None):\n",
    "                if(line.find('//') == -1):\n",
    "#                     print(line)\n",
    "                    count=count+1\n",
    "\n",
    "                \n",
    "print('\\x1b[1;31m'+\"Insertions excluding blank lines and comments:\"+'\\x1b[0m'+str(count))"
   ]
  },
  {
   "cell_type": "markdown",
   "metadata": {},
   "source": [
    "##### h) Days were between the current fixing commit and the previous commit in the VCC"
   ]
  },
  {
   "cell_type": "code",
   "execution_count": 12,
   "metadata": {},
   "outputs": [
    {
     "name": "stdout",
     "output_type": "stream",
     "text": [
      "\u001b[1;31mFile Name: \u001b[0mrelease-notes/VERSION\n",
      "\u001b[1;31mCurrent Commit Date\\Time: \u001b[0m2017-04-13 15:08:10\n",
      "\u001b[1;31mPrevious Commit Date\\Time: \u001b[0m2017-04-13 11:00:31\n",
      "\u001b[1;31mTime Difference: \u001b[0m4:07:39\n",
      "===\n",
      "\u001b[1;31mFile Name: \u001b[0msrc/main/java/com/fasterxml/jackson/databind/deser/BeanDeserializerFactory.java\n",
      "\u001b[1;31mCurrent Commit Date\\Time: \u001b[0m2017-04-13 15:08:10\n",
      "\u001b[1;31mPrevious Commit Date\\Time: \u001b[0m2017-01-25 21:12:01\n",
      "\u001b[1;31mTime Difference: \u001b[0m77 days, 17:56:09\n",
      "===\n",
      "\u001b[1;31mFile Name: \u001b[0msrc/test/java/com/fasterxml/jackson/databind/interop/IllegalTypesCheckTest.java\n",
      "\u001b[1;31mCurrent Commit Date\\Time: \u001b[0m2017-04-13 15:08:10\n",
      "\u001b[1;31mThis file has only one commit.\u001b[0m\n"
     ]
    }
   ],
   "source": [
    "from datetime import datetime\n",
    "from datetime import date\n",
    "# print(\"Number of commits in between:\", len(log_data))\n",
    "for file in files:   \n",
    "    print('\\x1b[1;31m'+\"File Name: \"+'\\x1b[0m'+file)\n",
    "    log_data = repo.git.log(mostFrequent,file).splitlines()\n",
    "    commit_number = 0\n",
    "    date1 = datetime.now()\n",
    "    date2 = datetime.now()\n",
    "    for line in log_data:\n",
    "        if(line[0:8] == \"Date:   \"):\n",
    "            commit_number=commit_number+1\n",
    "            if(commit_number ==1):\n",
    "                date1 = datetime.strptime(line[8:32], '%a %b %d %H:%M:%S %Y')\n",
    "                print('\\x1b[1;31m'+\"Current Commit Date\\Time: \"+'\\x1b[0m'+str(date1))\n",
    "                continue\n",
    "            if(commit_number ==2):\n",
    "                date2 = datetime.strptime(line[8:32], '%a %b %d %H:%M:%S %Y')\n",
    "                print('\\x1b[1;31m'+\"Previous Commit Date\\Time: \"+'\\x1b[0m'+str(date2))\n",
    "                break\n",
    "    if(commit_number == 1):\n",
    "        print('\\x1b[1;31m'+\"This file has only one commit.\"+'\\x1b[0m')\n",
    "    else:\n",
    "        print('\\x1b[1;31m'+\"Time Difference: \"+'\\x1b[0m'+str(date1-date2))\n",
    "        print(\"===\")\n"
   ]
  },
  {
   "cell_type": "markdown",
   "metadata": {},
   "source": [
    "##### i) Number of times each affected file of the current fixing commit been modified in the VCC\n"
   ]
  },
  {
   "cell_type": "code",
   "execution_count": 13,
   "metadata": {},
   "outputs": [
    {
     "name": "stdout",
     "output_type": "stream",
     "text": [
      "\u001b[1;31mFile Name: \u001b[0mrelease-notes/VERSION\n",
      "\u001b[1;31mNumber of Revisions including renaming: \u001b[0m693\n",
      "====\n",
      "\u001b[1;31mFile Name: \u001b[0msrc/main/java/com/fasterxml/jackson/databind/deser/BeanDeserializerFactory.java\n",
      "\u001b[1;31mNumber of Revisions including renaming: \u001b[0m98\n",
      "====\n",
      "\u001b[1;31mFile Name: \u001b[0msrc/test/java/com/fasterxml/jackson/databind/interop/IllegalTypesCheckTest.java\n",
      "\u001b[1;31mNumber of Revisions including renaming: \u001b[0m1\n",
      "====\n"
     ]
    }
   ],
   "source": [
    "for file in files:   \n",
    "    print('\\x1b[1;31m'+\"File Name: \"+'\\x1b[0m'+file)\n",
    "    log_data = repo.git.log(mostFrequent,\"--pretty=\\\"format:%H%M%S\\\"\", \"--\",file).splitlines()\n",
    "    print('\\x1b[1;31m'+\"Number of Revisions including renaming: \"+'\\x1b[0m'+str(len(log_data)))\n",
    "    print(\"====\")"
   ]
  },
  {
   "cell_type": "markdown",
   "metadata": {},
   "source": [
    "##### j) Developers that have modified each affected files since creation up to the VCC"
   ]
  },
  {
   "cell_type": "code",
   "execution_count": 14,
   "metadata": {},
   "outputs": [
    {
     "name": "stdout",
     "output_type": "stream",
     "text": [
      "\u001b[1;31mFile Name: \u001b[0mrelease-notes/VERSION\n",
      "\u001b[1;31mContributors of the file: \u001b[0m\n",
      "Cowtowncoder\n",
      "Tatu\n",
      "Tatu Saloranta\n",
      "jackphel\n",
      "\n",
      "\u001b[1;31mFile Name: \u001b[0msrc/main/java/com/fasterxml/jackson/databind/deser/BeanDeserializerFactory.java\n",
      "\u001b[1;31mContributors of the file: \u001b[0m\n",
      "Cowtowncoder\n",
      "Pascal Gélinas\n",
      "Tatu\n",
      "Tatu Saloranta\n",
      "\n",
      "\u001b[1;31mFile Name: \u001b[0msrc/test/java/com/fasterxml/jackson/databind/interop/IllegalTypesCheckTest.java\n",
      "\u001b[1;31mContributors of the file: \u001b[0m\n",
      "Tatu Saloranta\n",
      "\n"
     ]
    }
   ],
   "source": [
    "for file in files:   \n",
    "    print('\\x1b[1;31m'+\"File Name: \"+'\\x1b[0m'+file)\n",
    "    print('\\x1b[1;31m'+\"Contributors of the file: \"+'\\x1b[0m')\n",
    "    log_data = repo.git.log(mostFrequent,\"--pretty=format:%an\", \"--follow\", \"--\",file).splitlines()\n",
    "#     print('\\x1b[1;31m'+\"Number of Revisions including renaming: \"+'\\x1b[0m'+str(len(log_data)))\n",
    "#     print(log_data)\n",
    "    x = np.array(log_data) \n",
    "    uniqueNames = np.unique(x)\n",
    "    for name in uniqueNames:\n",
    "        print(name) \n",
    "    print()"
   ]
  },
  {
   "cell_type": "markdown",
   "metadata": {},
   "source": [
    "##### k) Observations about the developers of the VCC"
   ]
  },
  {
   "cell_type": "code",
   "execution_count": 15,
   "metadata": {},
   "outputs": [
    {
     "name": "stdout",
     "output_type": "stream",
     "text": [
      "\u001b[1;34mAccording to the number of commits of the developers, we can see the majority of the developers are new.\u001b[0m\n",
      "\u001b[1;34mThe number of developers with at least 450 commits is 3.\u001b[0m\n",
      "\u001b[1;34mThe number of developers with less than 450 commits is 197.\u001b[0m\n"
     ]
    }
   ],
   "source": [
    "commit_authors = repo.git.shortlog(\"-sne\", \"--all\").splitlines()\n",
    "\n",
    "author_commits = []\n",
    "\n",
    "for commit_author in commit_authors:\n",
    "    commit, author = commit_author.split(\"\\t\")\n",
    "    author_commits.append([int(commit), author])\n",
    "devs_above_450 = 0\n",
    "devs_below_450 = 0\n",
    "for item in author_commits:\n",
    "    if(item[0]>=450):\n",
    "        devs_above_450 = devs_above_450+1\n",
    "    else:\n",
    "        devs_below_450 = devs_below_450+1\n",
    "exp_level=\"new\"\n",
    "if(devs_above_450>devs_below_450):\n",
    "    exp_level = \"experienced\"\n",
    "    \n",
    "print('\\x1b[1;34m'+\"According to the number of commits of the developers, we can see the majority of the developers are \"+exp_level+\".\"+'\\x1b[0m')\n",
    "print('\\x1b[1;34m'+\"The number of developers with at least 450 commits is \"+str(devs_above_450)+\".\"+'\\x1b[0m')\n",
    "print('\\x1b[1;34m'+\"The number of developers with less than 450 commits is \"+str(devs_below_450)+\".\"+'\\x1b[0m')\n",
    "\n"
   ]
  },
  {
   "cell_type": "markdown",
   "metadata": {},
   "source": [
    "# 2. Apache/Xerces2-j\n"
   ]
  },
  {
   "cell_type": "markdown",
   "metadata": {},
   "source": [
    "### Task 3"
   ]
  },
  {
   "cell_type": "code",
   "execution_count": 16,
   "metadata": {},
   "outputs": [
    {
     "name": "stdout",
     "output_type": "stream",
     "text": [
      "\u001b[1;31mFile Name: \u001b[0msrc/org/apache/xerces/impl/XMLScanner.java\n",
      "\u001b[1;31mInsertions: \u001b[0m8\n",
      "\u001b[1;31mDeletions: \u001b[0m0\n",
      "\u001b[1;31mTotal: \u001b[0m8\n"
     ]
    }
   ],
   "source": [
    "remote_link = \"https://github.com/apache/xerces2-j\"\n",
    "local_link = \"xerces2-j\"\n",
    "\n",
    "repo = Repo(local_link)\n",
    "fixing_commit = \"0bdf77af1d4fd26ec2e630fb6d12e2dfa77bc12b\"\n",
    "repo.git.checkout(fixing_commit)\n",
    "show_data = repo.git.show(\"--shortstat\", fixing_commit).splitlines()\n",
    "\n",
    "commit = repo.commit(fixing_commit)\n",
    "s = commit.stats\n",
    "# s.total         # full-stat-dict\n",
    "# s.files         # dict( filepath : stat-dict )\n",
    "# print(s.total) # Overall statistics\n",
    "# print(s.files) # List all the files\n",
    "\n",
    "files = s.files\n",
    "directoryList = []\n",
    "fileNames = []\n",
    "for file in files.keys():\n",
    "    fileNames.append(file)\n",
    "    print('\\x1b[1;31m'+\"File Name: \"+'\\x1b[0m'+file)\n",
    "#     print(files[file]['insertions'])\n",
    "#     print(files[file]['deletions'])\n",
    "#     print(files[file]['lines'])\n",
    "    print('\\x1b[1;31m'+\"Insertions: \"+'\\x1b[0m'+str(files[file]['insertions']))\n",
    "    print('\\x1b[1;31m'+\"Deletions: \"+'\\x1b[0m'+str(files[file]['deletions']))\n",
    "    print('\\x1b[1;31m'+\"Total: \"+'\\x1b[0m'+str(files[file]['lines']))\n",
    "\n",
    "#     if directory not in directoryList:\n",
    "#         directoryList.append(directory)"
   ]
  },
  {
   "cell_type": "code",
   "execution_count": 17,
   "metadata": {},
   "outputs": [
    {
     "name": "stdout",
     "output_type": "stream",
     "text": [
      "\u001b[1;31mFile Name: \u001b[0msrc/org/apache/xerces/impl/XMLScanner.java\n",
      "\u001b[1;31mEnclosing Scope: \u001b[0mpublic abstract class XMLScanner\n",
      "\u001b[1;31mAffected Lines: \u001b[0mLine number 1029 to 1037\n",
      "\u001b[1;31mMost frequently identified commit : \u001b[0m0bdf77af\n",
      "\n"
     ]
    }
   ],
   "source": [
    "diff_data = repo.git.diff(\"-U0\",fixing_commit + \"^\", fixing_commit).splitlines()\n",
    "# print(diff_data)\n",
    "fileName = \"\"\n",
    "for line in diff_data:\n",
    "#     print(line)\n",
    "    if(line[0:10] == 'diff --git'):\n",
    "        fileName = line[13:line.find(' b')]\n",
    "#         print(line[12:])\n",
    "    if(line[0:3] == '@@ '):\n",
    "#         print(line)\n",
    "        start = ' +'\n",
    "        parentScopeStart = ' @@ '\n",
    "        end = ' @@'\n",
    "        s = line\n",
    "        parentScope = (s[s.find(parentScopeStart)+len(parentScopeStart):])\n",
    "        affectedLines = (s[s.find(start)+len(start):s.rfind(end)]).split(',')\n",
    "#         print(affectedLines)\n",
    "#         print(parentScope)\n",
    "        print('\\x1b[1;31m'+\"File Name: \"+'\\x1b[0m'+fileName)\n",
    "        if(\"Project\" == str(parentScope[:parentScope.find(': ')])):\n",
    "            print('\\x1b[1;31m'+\"This line does not have an enclosing scope.\"+'\\x1b[0m')\n",
    "        else:\n",
    "            print('\\x1b[1;31m'+\"Enclosing Scope: \"+'\\x1b[0m'+str(parentScope))\n",
    "        print('\\x1b[1;31m'+\"Affected Lines: \"+'\\x1b[0m'+\"Line number \" + affectedLines[0] + \" to \"+ str((int(affectedLines[0])+int(affectedLines[1]))))\n",
    "        \n",
    "        \n",
    "        lines = \"-L\"+affectedLines[0]+\",+\"+affectedLines[1]\n",
    "\n",
    "        blame_data = repo.git.blame(lines, fixing_commit, \"--\", fileName).splitlines()\n",
    "        commits = []\n",
    "        for l in blame_data:\n",
    "            commits.append(l[0:8])\n",
    "        unique, counts = np.unique(commits, return_counts=True)\n",
    "        d = dict(zip(unique, counts))\n",
    "        mostFrequent = max(d, key=d.get)\n",
    "        print('\\x1b[1;31m'+\"Most frequently identified commit : \"+'\\x1b[0m'+mostFrequent)\n",
    "        print()\n",
    "#         print(mostFrequent)\n",
    "\n",
    "#     print(l)\n",
    "#     print(\"==\")\n",
    "        "
   ]
  },
  {
   "cell_type": "markdown",
   "metadata": {},
   "source": [
    "### Task 5\n"
   ]
  },
  {
   "cell_type": "code",
   "execution_count": 18,
   "metadata": {},
   "outputs": [
    {
     "name": "stdout",
     "output_type": "stream",
     "text": [
      "\u001b[1;31mNo parameter : \u001b[0m0bdf77af\n",
      "\u001b[1;31mWith -w : \u001b[0m0bdf77af\n",
      "\u001b[1;31mWith -wM : \u001b[0m0bdf77af\n",
      "\u001b[1;31mWith -wC : \u001b[0m0bdf77af\n",
      "\u001b[1;31mWith -wCC : \u001b[0m0bdf77af\n",
      "\u001b[1;31mWith -wCCC : \u001b[0m0bdf77af\n"
     ]
    }
   ],
   "source": [
    "\n",
    "        lines = \"-L\"+affectedLines[0]+\",+\"+affectedLines[1]\n",
    "\n",
    "        blame_data = repo.git.blame(lines, fixing_commit, \"--\", fileName).splitlines()\n",
    "        commits = []\n",
    "        for l in blame_data:\n",
    "            commits.append(l[0:8])\n",
    "        unique, counts = np.unique(commits, return_counts=True)\n",
    "        d = dict(zip(unique, counts))\n",
    "        mostFrequent = max(d, key=d.get)\n",
    "        print('\\x1b[1;31m'+\"No parameter : \"+'\\x1b[0m'+mostFrequent)\n",
    "        ##################################\n",
    "        blame_data = repo.git.blame(lines, fixing_commit, \"-w\", \"--\", fileName).splitlines()\n",
    "        commits = []\n",
    "        for l in blame_data:\n",
    "            commits.append(l[0:8])\n",
    "        unique, counts = np.unique(commits, return_counts=True)\n",
    "        d = dict(zip(unique, counts))\n",
    "        mostFrequent = max(d, key=d.get)\n",
    "        print('\\x1b[1;31m'+\"With -w : \"+'\\x1b[0m'+mostFrequent)\n",
    "        ##################################\n",
    "        blame_data = repo.git.blame(lines, fixing_commit, \"-wM\", \"--\", fileName).splitlines()\n",
    "        commits = []\n",
    "        for l in blame_data:\n",
    "            commits.append(l[0:8])\n",
    "        unique, counts = np.unique(commits, return_counts=True)\n",
    "        d = dict(zip(unique, counts))\n",
    "        mostFrequent = max(d, key=d.get)\n",
    "        print('\\x1b[1;31m'+\"With -wM : \"+'\\x1b[0m'+mostFrequent)\n",
    "        ##################################\n",
    "        blame_data = repo.git.blame(lines, fixing_commit, \"-wC\", \"--\", fileName).splitlines()\n",
    "        commits = []\n",
    "        for l in blame_data:\n",
    "            commits.append(l[0:8])\n",
    "        unique, counts = np.unique(commits, return_counts=True)\n",
    "        d = dict(zip(unique, counts))\n",
    "        mostFrequent = max(d, key=d.get)\n",
    "        print('\\x1b[1;31m'+\"With -wC : \"+'\\x1b[0m'+mostFrequent)\n",
    "        ##################################\n",
    "        blame_data = repo.git.blame(lines, fixing_commit, \"-wCC\", \"--\", fileName).splitlines()\n",
    "        commits = []\n",
    "        for l in blame_data:\n",
    "            commits.append(l[0:8])\n",
    "        unique, counts = np.unique(commits, return_counts=True)\n",
    "        d = dict(zip(unique, counts))\n",
    "        mostFrequent = max(d, key=d.get)\n",
    "        print('\\x1b[1;31m'+\"With -wCC : \"+'\\x1b[0m'+mostFrequent)\n",
    "        ##################################\n",
    "        blame_data = repo.git.blame(lines, fixing_commit, \"-wCCC\", \"--\", fileName).splitlines()\n",
    "        commits = []\n",
    "        for l in blame_data:\n",
    "            commits.append(l[0:8])\n",
    "        unique, counts = np.unique(commits, return_counts=True)\n",
    "        d = dict(zip(unique, counts))\n",
    "        mostFrequent = max(d, key=d.get)\n",
    "        print('\\x1b[1;31m'+\"With -wCCC : \"+'\\x1b[0m'+mostFrequent)\n",
    "        "
   ]
  },
  {
   "cell_type": "markdown",
   "metadata": {},
   "source": [
    "### Task 6\n"
   ]
  },
  {
   "cell_type": "markdown",
   "metadata": {},
   "source": [
    "##### a) Message and title of the VCC"
   ]
  },
  {
   "cell_type": "code",
   "execution_count": 19,
   "metadata": {},
   "outputs": [
    {
     "name": "stdout",
     "output_type": "stream",
     "text": [
      "\u001b[1;31mCommit Title:\u001b[0m    Fixing JIRA Issue #1412: https://issues.apache.org/jira/browse/XERCESJ-1412. Resolves CVE-2009-2625 and a few other issues. We were missing checks for surrogates and well-formedness when scanning system identifiers.\n",
      "\u001b[1;31mCommit Message:\u001b[0m    git-svn-id: https://svn.apache.org/repos/asf/xerces/java/trunk@787352 13f79535-47bb-0310-9956-ffa450edef68\n"
     ]
    }
   ],
   "source": [
    "show_data = repo.git.show(\"--shortstat\", mostFrequent).splitlines()\n",
    "print('\\x1b[1;31m'+\"Commit Title:\"+'\\x1b[0m'+show_data[4])\n",
    "print('\\x1b[1;31m'+\"Commit Message:\"+'\\x1b[0m'+show_data[6])"
   ]
  },
  {
   "cell_type": "markdown",
   "metadata": {},
   "source": [
    "##### b) Number of affected files of the VCC"
   ]
  },
  {
   "cell_type": "code",
   "execution_count": 20,
   "metadata": {},
   "outputs": [
    {
     "name": "stdout",
     "output_type": "stream",
     "text": [
      "src/org/apache/xerces/impl/XMLScanner.java\n",
      "\u001b[1;31mAffected Files:\u001b[0m1\n"
     ]
    }
   ],
   "source": [
    "commit = repo.commit(mostFrequent)\n",
    "s = commit.stats\n",
    "for file in s.files:\n",
    "    print(file)\n",
    "print('\\x1b[1;31m'+\"Affected Files:\"+'\\x1b[0m'+ str(s.total[\"files\"]))"
   ]
  },
  {
   "cell_type": "markdown",
   "metadata": {},
   "source": [
    "##### c) Number of affected directories of the VCC\n"
   ]
  },
  {
   "cell_type": "code",
   "execution_count": 21,
   "metadata": {},
   "outputs": [
    {
     "name": "stdout",
     "output_type": "stream",
     "text": [
      "\u001b[1;31mAffected directories:\u001b[0m\n",
      "src/org/apache/xerces/impl\n",
      "\n",
      "\u001b[1;31mTotal:\u001b[0m\n",
      "1\n"
     ]
    }
   ],
   "source": [
    "# print(s.total) # Overall statistics\n",
    "# print(s.files) # List all the files\n",
    "files = s.files\n",
    "directoryList = []\n",
    "for file in files.keys():\n",
    "    directory = file[0:file.rfind('/')]\n",
    "#     print(directory)\n",
    "    if directory not in directoryList:\n",
    "        directoryList.append(directory)\n",
    "print('\\x1b[1;31m'+\"Affected directories:\"+'\\x1b[0m')\n",
    "for directory in directoryList:\n",
    "    print(directory)\n",
    "print()\n",
    "print('\\x1b[1;31m'+\"Total:\"+'\\x1b[0m')\n",
    "print(len(directoryList))\n",
    "    "
   ]
  },
  {
   "cell_type": "markdown",
   "metadata": {},
   "source": [
    "##### d) Total lines of code (including comments and blank lines) deleted in the VCC"
   ]
  },
  {
   "cell_type": "code",
   "execution_count": 22,
   "metadata": {},
   "outputs": [
    {
     "name": "stdout",
     "output_type": "stream",
     "text": [
      "\u001b[1;31mDeletions including blank lines:\u001b[0m0\n"
     ]
    }
   ],
   "source": [
    "diff_data = repo.git.diff(mostFrequent + \"^\", mostFrequent).splitlines()\n",
    "count = 0\n",
    "for line in diff_data:\n",
    "    if(not line[0:3] == '---'):\n",
    "        if(line[0:1] == '-'):\n",
    "            count=count+1\n",
    "print('\\x1b[1;31m'+\"Deletions including blank lines:\"+'\\x1b[0m'+str(count))"
   ]
  },
  {
   "cell_type": "markdown",
   "metadata": {},
   "source": [
    "##### e) Total lines of code (including comments and blank lines) added in the VCC"
   ]
  },
  {
   "cell_type": "code",
   "execution_count": 23,
   "metadata": {},
   "outputs": [
    {
     "name": "stdout",
     "output_type": "stream",
     "text": [
      "\u001b[1;31mInsertions including blank lines:\u001b[0m8\n"
     ]
    }
   ],
   "source": [
    "diff_data = repo.git.diff(mostFrequent + \"^\", mostFrequent).splitlines()\n",
    "count = 0\n",
    "for line in diff_data:\n",
    "    if(not line[0:3] == '+++'):\n",
    "        if(line[0:1] == '+'):\n",
    "            count=count+1\n",
    "print('\\x1b[1;31m'+\"Insertions including blank lines:\"+'\\x1b[0m'+str(count))"
   ]
  },
  {
   "cell_type": "markdown",
   "metadata": {},
   "source": [
    "##### f) Total lines of code (excluding comments and blank lines) deleted in the VCC\n"
   ]
  },
  {
   "cell_type": "code",
   "execution_count": 24,
   "metadata": {},
   "outputs": [
    {
     "name": "stdout",
     "output_type": "stream",
     "text": [
      "\u001b[1;31mDeletions excluding blank lines and comments:\u001b[0m0\n"
     ]
    }
   ],
   "source": [
    "diff_data = repo.git.diff(\"-w\",mostFrequent + \"^\", mostFrequent).splitlines()\n",
    "count = 0\n",
    "comment_started = False\n",
    "for line in diff_data:\n",
    "    if(not line[0:3] == '---'):\n",
    "        if(line.find('/*') != -1):\n",
    "            comment_started = True\n",
    "            continue\n",
    "        elif(line.find('*/') != -1):\n",
    "            comment_started = False\n",
    "            continue\n",
    "#             else:\n",
    "#             print(line + str(comment_started))\n",
    "        if(comment_started==False):\n",
    "            if(line[0:1] == '-' and not re.search(r'\\s', line) is None):\n",
    "                if(line.find('//') == -1):\n",
    "#                     print(line)\n",
    "                    count=count+1\n",
    "    \n",
    "print('\\x1b[1;31m'+\"Deletions excluding blank lines and comments:\"+'\\x1b[0m'+ str(count))"
   ]
  },
  {
   "cell_type": "markdown",
   "metadata": {},
   "source": [
    "##### g) Total lines of code (excluding comments and blank lines) added in the VCC"
   ]
  },
  {
   "cell_type": "code",
   "execution_count": 25,
   "metadata": {},
   "outputs": [
    {
     "name": "stdout",
     "output_type": "stream",
     "text": [
      "\u001b[1;31mInsertions excluding blank lines and comments:\u001b[0m8\n"
     ]
    }
   ],
   "source": [
    "diff_data = repo.git.diff(\"-w\",mostFrequent + \"^\", mostFrequent).splitlines()\n",
    "count = 0\n",
    "comment_started = False\n",
    "for line in diff_data:\n",
    "    if(not line[0:3] == '+++'):\n",
    "        if(line.find('/*') != -1):\n",
    "            comment_started = True\n",
    "            continue\n",
    "        elif(line.find('*/') != -1):\n",
    "            comment_started = False\n",
    "            continue\n",
    "#             else:\n",
    "#             print(line + str(comment_started))\n",
    "        if(comment_started==False):\n",
    "            if(line[0:1] == '+' and not re.search(r'\\s', line) is None):\n",
    "                if(line.find('//') == -1):\n",
    "#                     print(line)\n",
    "                    count=count+1\n",
    "\n",
    "                \n",
    "print('\\x1b[1;31m'+\"Insertions excluding blank lines and comments:\"+'\\x1b[0m'+str(count))"
   ]
  },
  {
   "cell_type": "markdown",
   "metadata": {},
   "source": [
    "##### h) Days were between the current fixing commit and the previous commit in the VCC"
   ]
  },
  {
   "cell_type": "code",
   "execution_count": 26,
   "metadata": {},
   "outputs": [
    {
     "name": "stdout",
     "output_type": "stream",
     "text": [
      "\u001b[1;31mFile Name: \u001b[0msrc/org/apache/xerces/impl/XMLScanner.java\n",
      "\u001b[1;31mCurrent Commit Date\\Time: \u001b[0m2009-06-22 19:08:53\n",
      "\u001b[1;31mPrevious Commit Date\\Time: \u001b[0m2007-09-02 17:55:43\n",
      "\u001b[1;31mTime Difference: \u001b[0m659 days, 1:13:10\n"
     ]
    }
   ],
   "source": [
    "from datetime import datetime\n",
    "from datetime import date\n",
    "# print(\"Number of commits in between:\", len(log_data))\n",
    "for file in files:   \n",
    "    print('\\x1b[1;31m'+\"File Name: \"+'\\x1b[0m'+file)\n",
    "    log_data = repo.git.log(mostFrequent,file).splitlines()\n",
    "    commit_number = 0\n",
    "    date1 = datetime.now()\n",
    "    date2 = datetime.now()\n",
    "    for line in log_data:\n",
    "        if(line[0:8] == \"Date:   \"):\n",
    "            commit_number=commit_number+1\n",
    "            \n",
    "            if(commit_number ==1):\n",
    "                date1 = datetime.strptime(line[8:32], '%a %b %d %H:%M:%S %Y')\n",
    "                print('\\x1b[1;31m'+\"Current Commit Date\\Time: \"+'\\x1b[0m'+str(date1))\n",
    "                continue\n",
    "            if(commit_number ==2):\n",
    "#                 print(line[8:])\n",
    "                date2 = datetime.strptime(line[8:31], '%a %b %d %H:%M:%S %Y')\n",
    "                print('\\x1b[1;31m'+\"Previous Commit Date\\Time: \"+'\\x1b[0m'+str(date2))\n",
    "                break\n",
    "    if(commit_number == 1):\n",
    "        print('\\x1b[1;31m'+\"This file has only one commit.\"+'\\x1b[0m')\n",
    "    else:\n",
    "        print('\\x1b[1;31m'+\"Time Difference: \"+'\\x1b[0m'+str(date1-date2))\n"
   ]
  },
  {
   "cell_type": "markdown",
   "metadata": {},
   "source": [
    "##### i) Number of times each affected file of the current fixing commit been modified in the VCC\n"
   ]
  },
  {
   "cell_type": "code",
   "execution_count": 27,
   "metadata": {},
   "outputs": [
    {
     "name": "stdout",
     "output_type": "stream",
     "text": [
      "\u001b[1;31mFile Name: \u001b[0msrc/org/apache/xerces/impl/XMLScanner.java\n",
      "\u001b[1;31mNumber of Revisions including renaming: \u001b[0m53\n"
     ]
    }
   ],
   "source": [
    "for file in files:   \n",
    "    print('\\x1b[1;31m'+\"File Name: \"+'\\x1b[0m'+file)\n",
    "    log_data = repo.git.log(mostFrequent,\"--pretty=\\\"format:%H%M%S\\\"\", \"--\",file).splitlines()\n",
    "    print('\\x1b[1;31m'+\"Number of Revisions including renaming: \"+'\\x1b[0m'+str(len(log_data)))"
   ]
  },
  {
   "cell_type": "markdown",
   "metadata": {},
   "source": [
    "##### j) Developers that have modified each affected files since creation up to the VCC"
   ]
  },
  {
   "cell_type": "code",
   "execution_count": 28,
   "metadata": {},
   "outputs": [
    {
     "name": "stdout",
     "output_type": "stream",
     "text": [
      "\u001b[1;31mFile Name: \u001b[0msrc/org/apache/xerces/impl/XMLScanner.java\n",
      "\u001b[1;31mContributors of the file: \u001b[0m\n",
      "Andy Clark\n",
      "Arnaud Le Hors\n",
      "Elena Litani\n",
      "Michael Glavassevich\n",
      "Neeraj Bajaj\n",
      "Neil Graham\n",
      "Rahul Srivastava\n",
      "Shudi Gao\n",
      "Ted Leung\n",
      "\n"
     ]
    }
   ],
   "source": [
    "for file in files:   \n",
    "    print('\\x1b[1;31m'+\"File Name: \"+'\\x1b[0m'+file)\n",
    "    print('\\x1b[1;31m'+\"Contributors of the file: \"+'\\x1b[0m')\n",
    "    log_data = repo.git.log(mostFrequent,\"--pretty=format:%an\", \"--follow\", \"--\",file).splitlines()\n",
    "#     print('\\x1b[1;31m'+\"Number of Revisions including renaming: \"+'\\x1b[0m'+str(len(log_data)))\n",
    "#     print(log_data)\n",
    "    x = np.array(log_data) \n",
    "    uniqueNames = np.unique(x)\n",
    "    for name in uniqueNames:\n",
    "        print(name) \n",
    "    print()"
   ]
  },
  {
   "cell_type": "markdown",
   "metadata": {},
   "source": [
    "##### k) Observations about the developers of the VCC"
   ]
  },
  {
   "cell_type": "code",
   "execution_count": 29,
   "metadata": {},
   "outputs": [
    {
     "name": "stdout",
     "output_type": "stream",
     "text": [
      "\u001b[1;34mAccording to the number of commits of the developers, we can see the majority of the developers are new.\u001b[0m\n",
      "\u001b[1;34mThe number of developers with at least 450 commits is 7.\u001b[0m\n",
      "\u001b[1;34mThe number of developers with less than 450 commits is 28.\u001b[0m\n"
     ]
    }
   ],
   "source": [
    "commit_authors = repo.git.shortlog(\"-sne\", \"--all\").splitlines()\n",
    "\n",
    "author_commits = []\n",
    "\n",
    "for commit_author in commit_authors:\n",
    "    commit, author = commit_author.split(\"\\t\")\n",
    "    author_commits.append([int(commit), author])\n",
    "devs_above_450 = 0\n",
    "devs_below_450 = 0\n",
    "for item in author_commits:\n",
    "    if(item[0]>=450):\n",
    "        devs_above_450 = devs_above_450+1\n",
    "    else:\n",
    "        devs_below_450 = devs_below_450+1\n",
    "exp_level=\"new\"\n",
    "if(devs_above_450>devs_below_450):\n",
    "    exp_level = \"experienced\"\n",
    "    \n",
    "print('\\x1b[1;34m'+\"According to the number of commits of the developers, we can see the majority of the developers are \"+exp_level+\".\"+'\\x1b[0m')\n",
    "print('\\x1b[1;34m'+\"The number of developers with at least 450 commits is \"+str(devs_above_450)+\".\"+'\\x1b[0m')\n",
    "print('\\x1b[1;34m'+\"The number of developers with less than 450 commits is \"+str(devs_below_450)+\".\"+'\\x1b[0m')\n",
    "\n"
   ]
  },
  {
   "cell_type": "markdown",
   "metadata": {},
   "source": [
    "# 3. Apache/Struts"
   ]
  },
  {
   "cell_type": "markdown",
   "metadata": {},
   "source": [
    "### Task 3"
   ]
  },
  {
   "cell_type": "code",
   "execution_count": 30,
   "metadata": {},
   "outputs": [
    {
     "name": "stdout",
     "output_type": "stream",
     "text": [
      "\u001b[1;31mFile Name: \u001b[0mcore/src/main/java/org/apache/struts2/interceptor/CookieInterceptor.java\n",
      "\u001b[1;31mInsertions: \u001b[0m36\n",
      "\u001b[1;31mDeletions: \u001b[0m16\n",
      "\u001b[1;31mTotal: \u001b[0m52\n",
      "====================\n",
      "\u001b[1;31mFile Name: \u001b[0mxwork-core/src/main/java/com/opensymphony/xwork2/interceptor/ParametersInterceptor.java\n",
      "\u001b[1;31mInsertions: \u001b[0m4\n",
      "\u001b[1;31mDeletions: \u001b[0m17\n",
      "\u001b[1;31mTotal: \u001b[0m21\n",
      "====================\n",
      "\u001b[1;31mFile Name: \u001b[0mxwork-core/src/main/java/com/opensymphony/xwork2/util/ArrayUtils.java\n",
      "\u001b[1;31mInsertions: \u001b[0m23\n",
      "\u001b[1;31mDeletions: \u001b[0m0\n",
      "\u001b[1;31mTotal: \u001b[0m23\n",
      "====================\n",
      "\u001b[1;31mFile Name: \u001b[0mxwork-core/src/test/java/com/opensymphony/xwork2/interceptor/ParametersInterceptorTest.java\n",
      "\u001b[1;31mInsertions: \u001b[0m1\n",
      "\u001b[1;31mDeletions: \u001b[0m5\n",
      "\u001b[1;31mTotal: \u001b[0m6\n",
      "====================\n"
     ]
    }
   ],
   "source": [
    "remote_link = \"https://github.com/apache/struts\"\n",
    "local_link = \"struts\"\n",
    "\n",
    "repo = Repo(local_link)\n",
    "fixing_commit = \"9cad25f258bb2629d263f828574d2671366c238d\"\n",
    "repo.git.checkout(fixing_commit)\n",
    "show_data = repo.git.show(\"--shortstat\", fixing_commit).splitlines()\n",
    "\n",
    "commit = repo.commit(fixing_commit)\n",
    "s = commit.stats\n",
    "# s.total         # full-stat-dict\n",
    "# s.files         # dict( filepath : stat-dict )\n",
    "# print(s.total) # Overall statistics\n",
    "# print(s.files) # List all the files\n",
    "\n",
    "files = s.files\n",
    "directoryList = []\n",
    "fileNames = []\n",
    "for file in files.keys():\n",
    "    fileNames.append(file)\n",
    "    print('\\x1b[1;31m'+\"File Name: \"+'\\x1b[0m'+file)\n",
    "#     print(files[file]['insertions'])\n",
    "#     print(files[file]['deletions'])\n",
    "#     print(files[file]['lines'])\n",
    "    print('\\x1b[1;31m'+\"Insertions: \"+'\\x1b[0m'+str(files[file]['insertions']))\n",
    "    print('\\x1b[1;31m'+\"Deletions: \"+'\\x1b[0m'+str(files[file]['deletions']))\n",
    "    print('\\x1b[1;31m'+\"Total: \"+'\\x1b[0m'+str(files[file]['lines']))\n",
    "    print(\"====================\")\n",
    "\n",
    "#     if directory not in directoryList:\n",
    "#         directoryList.append(directory)"
   ]
  },
  {
   "cell_type": "code",
   "execution_count": 31,
   "metadata": {},
   "outputs": [
    {
     "name": "stdout",
     "output_type": "stream",
     "text": [
      "\u001b[1;31mFile Name: \u001b[0mcore/src/main/java/org/apache/struts2/interceptor/CookieInterceptor.java\n",
      "\u001b[1;31mEnclosing Scope: \u001b[0mpackage org.apache.struts2.interceptor\n",
      "\u001b[1;31mAffected Lines: \u001b[0mLine number 23 to 23\n",
      "\u001b[1;31mMost frequently identified commit : \u001b[0m4dd9c2d5\n",
      "==============================================================\n",
      "\n",
      "\u001b[1;31mFile Name: \u001b[0mcore/src/main/java/org/apache/struts2/interceptor/CookieInterceptor.java\n",
      "\u001b[1;31mEnclosing Scope: \u001b[0mimport com.opensymphony.xwork2.util.logging.LoggerFactory\n",
      "\u001b[1;31mAffected Lines: \u001b[0mLine number 31 to 39\n",
      "\u001b[1;31mMost frequently identified commit : \u001b[0m9cad25f2\n",
      "==============================================================\n",
      "\n",
      "\u001b[1;31mFile Name: \u001b[0mcore/src/main/java/org/apache/struts2/interceptor/CookieInterceptor.java\n",
      "\u001b[1;31mEnclosing Scope: \u001b[0mimport com.opensymphony.xwork2.util.logging.LoggerFactory\n",
      "\u001b[1;31mAffected Lines: \u001b[0mLine number 79 to 81\n",
      "\u001b[1;31mMost frequently identified commit : \u001b[0m9cad25f2\n",
      "==============================================================\n",
      "\n",
      "\u001b[1;31mFile Name: \u001b[0mcore/src/main/java/org/apache/struts2/interceptor/CookieInterceptor.java\n",
      "\u001b[1;31mEnclosing Scope: \u001b[0mpublic class CookieInterceptor extends AbstractInterceptor \n",
      "\u001b[1;31mAffected Lines: \u001b[0mLine number 166 to 168\n",
      "\u001b[1;31mMost frequently identified commit : \u001b[0m9cad25f2\n",
      "==============================================================\n",
      "\n",
      "\u001b[1;31mFile Name: \u001b[0mcore/src/main/java/org/apache/struts2/interceptor/CookieInterceptor.java\n",
      "\u001b[1;31mEnclosing Scope: \u001b[0mpublic class CookieInterceptor extends AbstractInterceptor \n",
      "\u001b[1;31mAffected Lines: \u001b[0mLine number 171 to 174\n",
      "\u001b[1;31mMost frequently identified commit : \u001b[0m9cad25f2\n",
      "==============================================================\n",
      "\n",
      "\u001b[1;31mFile Name: \u001b[0mcore/src/main/java/org/apache/struts2/interceptor/CookieInterceptor.java\n",
      "\u001b[1;31mEnclosing Scope: \u001b[0mpublic class CookieInterceptor extends AbstractInterceptor \n",
      "\u001b[1;31mAffected Lines: \u001b[0mLine number 197 to 206\n",
      "\u001b[1;31mMost frequently identified commit : \u001b[0m9cad25f2\n",
      "==============================================================\n",
      "\n",
      "\u001b[1;31mFile Name: \u001b[0mcore/src/main/java/org/apache/struts2/interceptor/CookieInterceptor.java\n",
      "\u001b[1;31mEnclosing Scope: \u001b[0mpublic class CookieInterceptor extends AbstractInterceptor \n",
      "\u001b[1;31mAffected Lines: \u001b[0mLine number 210 to 210\n",
      "\u001b[1;31mMost frequently identified commit : \u001b[0m4dd9c2d5\n",
      "==============================================================\n",
      "\n",
      "\u001b[1;31mFile Name: \u001b[0mcore/src/main/java/org/apache/struts2/interceptor/CookieInterceptor.java\n",
      "\u001b[1;31mEnclosing Scope: \u001b[0mpublic class CookieInterceptor extends AbstractInterceptor \n",
      "\u001b[1;31mAffected Lines: \u001b[0mLine number 222 to 230\n",
      "\u001b[1;31mMost frequently identified commit : \u001b[0m9cad25f2\n",
      "==============================================================\n",
      "\n",
      "\u001b[1;31mFile Name: \u001b[0mcore/src/main/java/org/apache/struts2/interceptor/CookieInterceptor.java\n",
      "\u001b[1;31mEnclosing Scope: \u001b[0mpublic class CookieInterceptor extends AbstractInterceptor \n",
      "\u001b[1;31mAffected Lines: \u001b[0mLine number 231 to 233\n",
      "\u001b[1;31mMost frequently identified commit : \u001b[0m9cad25f2\n",
      "==============================================================\n",
      "\n",
      "\u001b[1;31mFile Name: \u001b[0mcore/src/main/java/org/apache/struts2/interceptor/CookieInterceptor.java\n",
      "\u001b[1;31mEnclosing Scope: \u001b[0mpublic class CookieInterceptor extends AbstractInterceptor \n",
      "\u001b[1;31mAffected Lines: \u001b[0mLine number 274 to 274\n",
      "\u001b[1;31mMost frequently identified commit : \u001b[0m4dd9c2d5\n",
      "==============================================================\n",
      "\n",
      "\u001b[1;31mFile Name: \u001b[0mxwork-core/src/main/java/com/opensymphony/xwork2/interceptor/ParametersInterceptor.java\n",
      "\u001b[1;31mEnclosing Scope: \u001b[0mimport com.opensymphony.xwork2.inject.Inject\n",
      "\u001b[1;31mAffected Lines: \u001b[0mLine number 24 to 24\n",
      "\u001b[1;31mMost frequently identified commit : \u001b[0m0c543aef\n",
      "==============================================================\n",
      "\n",
      "\u001b[1;31mFile Name: \u001b[0mxwork-core/src/main/java/com/opensymphony/xwork2/interceptor/ParametersInterceptor.java\n",
      "\u001b[1;31mEnclosing Scope: \u001b[0mimport com.opensymphony.xwork2.util.MemberAccessValueStack\n",
      "\u001b[1;31mAffected Lines: \u001b[0mLine number 27 to 27\n",
      "\u001b[1;31mMost frequently identified commit : \u001b[0m0c543aef\n",
      "==============================================================\n",
      "\n",
      "\u001b[1;31mFile Name: \u001b[0mxwork-core/src/main/java/com/opensymphony/xwork2/interceptor/ParametersInterceptor.java\n",
      "\u001b[1;31mEnclosing Scope: \u001b[0mpublic class ParametersInterceptor extends MethodFilterInterceptor \n",
      "\u001b[1;31mAffected Lines: \u001b[0mLine number 138 to 138\n",
      "\u001b[1;31mMost frequently identified commit : \u001b[0m0c543aef\n",
      "==============================================================\n",
      "\n",
      "\u001b[1;31mFile Name: \u001b[0mxwork-core/src/main/java/com/opensymphony/xwork2/interceptor/ParametersInterceptor.java\n",
      "\u001b[1;31mEnclosing Scope: \u001b[0mpublic class ParametersInterceptor extends MethodFilterInterceptor \n",
      "\u001b[1;31mAffected Lines: \u001b[0mLine number 154 to 154\n",
      "\u001b[1;31mMost frequently identified commit : \u001b[0m0c543aef\n",
      "==============================================================\n",
      "\n",
      "\u001b[1;31mFile Name: \u001b[0mxwork-core/src/main/java/com/opensymphony/xwork2/interceptor/ParametersInterceptor.java\n",
      "\u001b[1;31mEnclosing Scope: \u001b[0mpublic class ParametersInterceptor extends MethodFilterInterceptor \n",
      "\u001b[1;31mAffected Lines: \u001b[0mLine number 416 to 416\n",
      "\u001b[1;31mMost frequently identified commit : \u001b[0m0c543aef\n",
      "==============================================================\n",
      "\n",
      "\u001b[1;31mFile Name: \u001b[0mxwork-core/src/main/java/com/opensymphony/xwork2/interceptor/ParametersInterceptor.java\n",
      "\u001b[1;31mEnclosing Scope: \u001b[0mpublic class ParametersInterceptor extends MethodFilterInterceptor \n",
      "\u001b[1;31mAffected Lines: \u001b[0mLine number 424 to 424\n",
      "\u001b[1;31mMost frequently identified commit : \u001b[0m0c543aef\n",
      "==============================================================\n",
      "\n",
      "\u001b[1;31mFile Name: \u001b[0mxwork-core/src/main/java/com/opensymphony/xwork2/util/ArrayUtils.java\n",
      "\u001b[1;31mEnclosing Scope: \u001b[0mpackage com.opensymphony.xwork2.util\n",
      "\u001b[1;31mAffected Lines: \u001b[0mLine number 18 to 23\n",
      "\u001b[1;31mMost frequently identified commit : \u001b[0m9cad25f2\n",
      "==============================================================\n",
      "\n",
      "\u001b[1;31mFile Name: \u001b[0mxwork-core/src/main/java/com/opensymphony/xwork2/util/ArrayUtils.java\n",
      "\u001b[1;31mEnclosing Scope: \u001b[0mpublic class ArrayUtils \n",
      "\u001b[1;31mAffected Lines: \u001b[0mLine number 36 to 54\n",
      "\u001b[1;31mMost frequently identified commit : \u001b[0m9cad25f2\n",
      "==============================================================\n",
      "\n",
      "\u001b[1;31mFile Name: \u001b[0mxwork-core/src/test/java/com/opensymphony/xwork2/interceptor/ParametersInterceptorTest.java\n",
      "\u001b[1;31mEnclosing Scope: \u001b[0mpublic class ParametersInterceptorTest extends XWorkTestCase \n",
      "\u001b[1;31mAffected Lines: \u001b[0mLine number 199 to 199\n",
      "\u001b[1;31mMost frequently identified commit : \u001b[0m0c543aef\n",
      "==============================================================\n",
      "\n"
     ]
    }
   ],
   "source": [
    "diff_data = repo.git.diff(\"-U0\",fixing_commit + \"^\", fixing_commit).splitlines()\n",
    "# print(diff_data)\n",
    "fileName = \"\"\n",
    "for line in diff_data:\n",
    "#     print(line)\n",
    "    if(line[0:10] == 'diff --git'):\n",
    "        fileName = line[13:line.find(' b')]\n",
    "#         print(line[12:])\n",
    "    if(line[0:3] == '@@ '):\n",
    "#         print(line)\n",
    "        start = ' +'\n",
    "        parentScopeStart = ' @@ '\n",
    "        end = ' @@'\n",
    "        s = line\n",
    "        parentScope = (s[s.find(parentScopeStart)+len(parentScopeStart):])\n",
    "        affectedLines = (s[s.find(start)+len(start):s.rfind(end)]).split(',')\n",
    "        if(len(affectedLines) == 1):\n",
    "            affectedLines.append('0')\n",
    "#         print(affectedLines)\n",
    "#         print(parentScope)\n",
    "        print('\\x1b[1;31m'+\"File Name: \"+'\\x1b[0m'+fileName)\n",
    "        if(\"Project\" == str(parentScope[:parentScope.find(': ')])):\n",
    "            print('\\x1b[1;31m'+\"This line does not have an enclosing scope.\"+'\\x1b[0m')\n",
    "        else:\n",
    "            print('\\x1b[1;31m'+\"Enclosing Scope: \"+'\\x1b[0m'+str(parentScope[:parentScope.find(': ')]))\n",
    "        print('\\x1b[1;31m'+\"Affected Lines: \"+'\\x1b[0m'+\"Line number \" + affectedLines[0] + \" to \"+ str((int(affectedLines[0])+int(affectedLines[1]))))\n",
    "        \n",
    "        \n",
    "        lines = \"-L\"+affectedLines[0]+\",+\"+affectedLines[1]\n",
    "        \n",
    "        if(affectedLines[1] == '0'):\n",
    "            lines = \"-L\"+affectedLines[0]\n",
    "\n",
    "        blame_data = repo.git.blame(lines, fixing_commit, \"--\", fileName).splitlines()\n",
    "        commits = []\n",
    "        for l in blame_data:\n",
    "            commits.append(l[0:8])\n",
    "        unique, counts = np.unique(commits, return_counts=True)\n",
    "        d = dict(zip(unique, counts))\n",
    "        mostFrequent = max(d, key=d.get)\n",
    "        \n",
    "        print('\\x1b[1;31m'+\"Most frequently identified commit : \"+'\\x1b[0m'+mostFrequent)\n",
    "        print(\"==============================================================\")\n",
    "        print()\n",
    "#         print(mostFrequent)\n",
    "\n",
    "#     print(l)\n",
    "#     print(\"==\")\n",
    "        "
   ]
  },
  {
   "cell_type": "markdown",
   "metadata": {},
   "source": [
    "### Task 5"
   ]
  },
  {
   "cell_type": "code",
   "execution_count": 32,
   "metadata": {},
   "outputs": [
    {
     "name": "stdout",
     "output_type": "stream",
     "text": [
      "\u001b[1;31mNo parameter : \u001b[0m0c543aef\n",
      "\u001b[1;31mWith -w : \u001b[0m0c543aef\n",
      "\u001b[1;31mWith -wM : \u001b[0m0c543aef\n",
      "\u001b[1;31mWith -wC : \u001b[0m0c543aef\n",
      "\u001b[1;31mWith -wCC : \u001b[0m0c543aef\n",
      "\u001b[1;31mWith -wCCC : \u001b[0m0c543aef\n"
     ]
    }
   ],
   "source": [
    "\n",
    "        lines = \"-L\"+affectedLines[0]+\",+\"+affectedLines[1]\n",
    "        if(affectedLines[1] == '0'):\n",
    "            lines = \"-L\"+affectedLines[0]\n",
    "\n",
    "        blame_data = repo.git.blame(lines, fixing_commit, \"--\", fileName).splitlines()\n",
    "        commits = []\n",
    "        for l in blame_data:\n",
    "            commits.append(l[0:8])\n",
    "        unique, counts = np.unique(commits, return_counts=True)\n",
    "        d = dict(zip(unique, counts))\n",
    "        mostFrequent = max(d, key=d.get)\n",
    "        print('\\x1b[1;31m'+\"No parameter : \"+'\\x1b[0m'+mostFrequent)\n",
    "        ##################################\n",
    "        blame_data = repo.git.blame(lines, fixing_commit, \"-w\", \"--\", fileName).splitlines()\n",
    "        commits = []\n",
    "        for l in blame_data:\n",
    "            commits.append(l[0:8])\n",
    "        unique, counts = np.unique(commits, return_counts=True)\n",
    "        d = dict(zip(unique, counts))\n",
    "        mostFrequent = max(d, key=d.get)\n",
    "        print('\\x1b[1;31m'+\"With -w : \"+'\\x1b[0m'+mostFrequent)\n",
    "        ##################################\n",
    "        blame_data = repo.git.blame(lines, fixing_commit, \"-wM\", \"--\", fileName).splitlines()\n",
    "        commits = []\n",
    "        for l in blame_data:\n",
    "            commits.append(l[0:8])\n",
    "        unique, counts = np.unique(commits, return_counts=True)\n",
    "        d = dict(zip(unique, counts))\n",
    "        mostFrequent = max(d, key=d.get)\n",
    "        print('\\x1b[1;31m'+\"With -wM : \"+'\\x1b[0m'+mostFrequent)\n",
    "        ##################################\n",
    "        blame_data = repo.git.blame(lines, fixing_commit, \"-wC\", \"--\", fileName).splitlines()\n",
    "        commits = []\n",
    "        for l in blame_data:\n",
    "            commits.append(l[0:8])\n",
    "        unique, counts = np.unique(commits, return_counts=True)\n",
    "        d = dict(zip(unique, counts))\n",
    "        mostFrequent = max(d, key=d.get)\n",
    "        print('\\x1b[1;31m'+\"With -wC : \"+'\\x1b[0m'+mostFrequent)\n",
    "        ##################################\n",
    "        blame_data = repo.git.blame(lines, fixing_commit, \"-wCC\", \"--\", fileName).splitlines()\n",
    "        commits = []\n",
    "        for l in blame_data:\n",
    "            commits.append(l[0:8])\n",
    "        unique, counts = np.unique(commits, return_counts=True)\n",
    "        d = dict(zip(unique, counts))\n",
    "        mostFrequent = max(d, key=d.get)\n",
    "        print('\\x1b[1;31m'+\"With -wCC : \"+'\\x1b[0m'+mostFrequent)\n",
    "        ##################################\n",
    "        blame_data = repo.git.blame(lines, fixing_commit, \"-wCCC\", \"--\", fileName).splitlines()\n",
    "        commits = []\n",
    "        for l in blame_data:\n",
    "            commits.append(l[0:8])\n",
    "        unique, counts = np.unique(commits, return_counts=True)\n",
    "        d = dict(zip(unique, counts))\n",
    "        mostFrequent = max(d, key=d.get)\n",
    "        print('\\x1b[1;31m'+\"With -wCCC : \"+'\\x1b[0m'+mostFrequent)\n",
    "        "
   ]
  },
  {
   "cell_type": "markdown",
   "metadata": {},
   "source": [
    "### Task 6"
   ]
  },
  {
   "cell_type": "markdown",
   "metadata": {},
   "source": [
    "##### a) Message and title of the VCC"
   ]
  },
  {
   "cell_type": "code",
   "execution_count": 33,
   "metadata": {},
   "outputs": [
    {
     "name": "stdout",
     "output_type": "stream",
     "text": [
      "\u001b[1;31mCommit Title:\u001b[0m    Move XWork core under Struts 2 to simplify relese proces\n",
      "\u001b[1;31mCommit Message:\u001b[0m    git-svn-id: https://svn.apache.org/repos/asf/struts/struts2/trunk@911280 13f79535-47bb-0310-9956-ffa450edef68\n"
     ]
    }
   ],
   "source": [
    "show_data = repo.git.show(\"--shortstat\", mostFrequent).splitlines()\n",
    "print('\\x1b[1;31m'+\"Commit Title:\"+'\\x1b[0m'+show_data[4])\n",
    "print('\\x1b[1;31m'+\"Commit Message:\"+'\\x1b[0m'+show_data[6])"
   ]
  },
  {
   "cell_type": "markdown",
   "metadata": {},
   "source": [
    "##### b) Number of affected files of the VCC"
   ]
  },
  {
   "cell_type": "code",
   "execution_count": 34,
   "metadata": {},
   "outputs": [
    {
     "name": "stdout",
     "output_type": "stream",
     "text": [
      "xwork-core/pom.xml\n",
      "xwork-core/src/main/java/com/opensymphony/xwork2/Action.java\n",
      "xwork-core/src/main/java/com/opensymphony/xwork2/ActionChainResult.java\n",
      "xwork-core/src/main/java/com/opensymphony/xwork2/ActionContext.java\n",
      "xwork-core/src/main/java/com/opensymphony/xwork2/ActionEventListener.java\n",
      "... and -5 more.\n",
      "\u001b[1;31mAffected Files:\u001b[0m686\n"
     ]
    }
   ],
   "source": [
    "commit = repo.commit(mostFrequent)\n",
    "s = commit.stats\n",
    "# s.total         # full-stat-dict\n",
    "# s.files         # dict( filepath : stat-dict )\n",
    "# print(s.total) # Overall statistics\n",
    "# print(s.files) # List all the files\n",
    "i=0\n",
    "for file in s.files:\n",
    "    i=i+1\n",
    "    if(i==6):\n",
    "        break\n",
    "    print(file)\n",
    "print(\"... and \"+str(len(directoryList)-5) + \" more.\")\n",
    "\n",
    "print('\\x1b[1;31m'+\"Affected Files:\"+'\\x1b[0m'+ str(s.total[\"files\"]))"
   ]
  },
  {
   "cell_type": "markdown",
   "metadata": {},
   "source": [
    "##### c) Number of affected directories of the VCC\n"
   ]
  },
  {
   "cell_type": "code",
   "execution_count": 35,
   "metadata": {},
   "outputs": [
    {
     "name": "stdout",
     "output_type": "stream",
     "text": [
      "\u001b[1;31mAffected directories:\u001b[0m\n",
      "xwork-core\n",
      "xwork-core/src/main/java/com/opensymphony/xwork2\n",
      "xwork-core/src/main/java/com/opensymphony/xwork2/config\n",
      "xwork-core/src/main/java/com/opensymphony/xwork2/config/entities\n",
      "xwork-core/src/main/java/com/opensymphony/xwork2/config/impl\n",
      "... and 69 more.\n",
      "\n",
      "\u001b[1;31mTotal:\u001b[0m\n",
      "74\n"
     ]
    }
   ],
   "source": [
    "# print(s.total) # Overall statistics\n",
    "# print(s.files) # List all the files\n",
    "files = s.files\n",
    "directoryList = []\n",
    "for file in files.keys():\n",
    "    directory = file[0:file.rfind('/')]\n",
    "#     print(directory)\n",
    "    if directory not in directoryList:\n",
    "        directoryList.append(directory)\n",
    "print('\\x1b[1;31m'+\"Affected directories:\"+'\\x1b[0m')\n",
    "i=0\n",
    "for directory in directoryList:\n",
    "    i=i+1\n",
    "    if(i==6):\n",
    "        break\n",
    "    print(directory)\n",
    "print(\"... and \"+str(len(directoryList)-5) + \" more.\")\n",
    "print()\n",
    "print('\\x1b[1;31m'+\"Total:\"+'\\x1b[0m')\n",
    "print(len(directoryList))\n",
    "    "
   ]
  },
  {
   "cell_type": "markdown",
   "metadata": {},
   "source": [
    "##### d) Total lines of code (including comments and blank lines) deleted in the VCC"
   ]
  },
  {
   "cell_type": "code",
   "execution_count": 36,
   "metadata": {},
   "outputs": [
    {
     "name": "stdout",
     "output_type": "stream",
     "text": [
      "\u001b[1;31mDeletions including blank lines:\u001b[0m0\n"
     ]
    }
   ],
   "source": [
    "diff_data = repo.git.diff(mostFrequent + \"^\", mostFrequent).splitlines()\n",
    "count = 0\n",
    "for line in diff_data:\n",
    "    if(not line[0:3] == '---'):\n",
    "        if(line[0:1] == '-'):\n",
    "            count=count+1\n",
    "print('\\x1b[1;31m'+\"Deletions including blank lines:\"+'\\x1b[0m'+str(count))"
   ]
  },
  {
   "cell_type": "markdown",
   "metadata": {},
   "source": [
    "##### e) Total lines of code (including comments and blank lines) added in the VCC"
   ]
  },
  {
   "cell_type": "code",
   "execution_count": 37,
   "metadata": {},
   "outputs": [
    {
     "name": "stdout",
     "output_type": "stream",
     "text": [
      "\u001b[1;31mInsertions including blank lines:\u001b[0m72963\n"
     ]
    }
   ],
   "source": [
    "diff_data = repo.git.diff(mostFrequent + \"^\", mostFrequent).splitlines()\n",
    "count = 0\n",
    "for line in diff_data:\n",
    "    if(not line[0:3] == '+++'):\n",
    "        if(line[0:1] == '+'):\n",
    "            count=count+1\n",
    "print('\\x1b[1;31m'+\"Insertions including blank lines:\"+'\\x1b[0m'+str(count))"
   ]
  },
  {
   "cell_type": "markdown",
   "metadata": {},
   "source": [
    "##### f) Total lines of code (excluding comments and blank lines) deleted in the VCC\n"
   ]
  },
  {
   "cell_type": "code",
   "execution_count": 38,
   "metadata": {},
   "outputs": [
    {
     "name": "stdout",
     "output_type": "stream",
     "text": [
      "\u001b[1;31mDeletions excluding blank lines and comments:\u001b[0m0\n"
     ]
    }
   ],
   "source": [
    "diff_data = repo.git.diff(\"-w\",mostFrequent + \"^\", mostFrequent).splitlines()\n",
    "count = 0\n",
    "comment_started = False\n",
    "for line in diff_data:\n",
    "    if(not line[0:3] == '---'):\n",
    "        if(line.find('/*') != -1):\n",
    "            comment_started = True\n",
    "            continue\n",
    "        elif(line.find('*/') != -1):\n",
    "            comment_started = False\n",
    "            continue\n",
    "#             else:\n",
    "#             print(line + str(comment_started))\n",
    "        if(comment_started==False):\n",
    "            if(line[0:1] == '-' and not re.search(r'\\s', line) is None):\n",
    "                if(line.find('//') == -1):\n",
    "#                     print(line)\n",
    "                    count=count+1\n",
    "    \n",
    "print('\\x1b[1;31m'+\"Deletions excluding blank lines and comments:\"+'\\x1b[0m'+ str(count))"
   ]
  },
  {
   "cell_type": "markdown",
   "metadata": {},
   "source": [
    "##### g) Total lines of code (excluding comments and blank lines) added in the VCC"
   ]
  },
  {
   "cell_type": "code",
   "execution_count": 39,
   "metadata": {},
   "outputs": [
    {
     "name": "stdout",
     "output_type": "stream",
     "text": [
      "\u001b[1;31mInsertions excluding blank lines and comments:\u001b[0m37887\n"
     ]
    }
   ],
   "source": [
    "diff_data = repo.git.diff(\"-w\",mostFrequent + \"^\", mostFrequent).splitlines()\n",
    "count = 0\n",
    "comment_started = False\n",
    "for line in diff_data:\n",
    "    if(not line[0:3] == '+++'):\n",
    "        if(line.find('/*') != -1):\n",
    "            comment_started = True\n",
    "            continue\n",
    "        elif(line.find('*/') != -1):\n",
    "            comment_started = False\n",
    "            continue\n",
    "#             else:\n",
    "#             print(line + str(comment_started))\n",
    "        if(comment_started==False):\n",
    "            if(line[0:1] == '+' and not re.search(r'\\s', line) is None):\n",
    "                if(line.find('//') == -1):\n",
    "#                     print(line)\n",
    "                    count=count+1\n",
    "\n",
    "                \n",
    "print('\\x1b[1;31m'+\"Insertions excluding blank lines and comments:\"+'\\x1b[0m'+str(count))"
   ]
  },
  {
   "cell_type": "markdown",
   "metadata": {},
   "source": [
    "##### h) Days were between the current fixing commit and the previous commit in the VCC"
   ]
  },
  {
   "cell_type": "code",
   "execution_count": 40,
   "metadata": {},
   "outputs": [
    {
     "name": "stdout",
     "output_type": "stream",
     "text": [
      "\u001b[1;31mFile Name: \u001b[0mxwork-core/pom.xml\n",
      "\u001b[1;31mCurrent Commit Date\\Time: \u001b[0m2010-02-18 08:22:46\n",
      "\u001b[1;31mThis file has only one commit.\u001b[0m\n",
      "\u001b[1;31mFile Name: \u001b[0mxwork-core/src/main/java/com/opensymphony/xwork2/Action.java\n",
      "\u001b[1;31mCurrent Commit Date\\Time: \u001b[0m2010-02-18 08:22:46\n",
      "\u001b[1;31mThis file has only one commit.\u001b[0m\n",
      "\u001b[1;31mFile Name: \u001b[0mxwork-core/src/main/java/com/opensymphony/xwork2/ActionChainResult.java\n",
      "\u001b[1;31mCurrent Commit Date\\Time: \u001b[0m2010-02-18 08:22:46\n",
      "\u001b[1;31mThis file has only one commit.\u001b[0m\n",
      "\u001b[1;31mFile Name: \u001b[0mxwork-core/src/main/java/com/opensymphony/xwork2/ActionContext.java\n",
      "\u001b[1;31mCurrent Commit Date\\Time: \u001b[0m2010-02-18 08:22:46\n",
      "\u001b[1;31mThis file has only one commit.\u001b[0m\n",
      "\u001b[1;31mFile Name: \u001b[0mxwork-core/src/main/java/com/opensymphony/xwork2/ActionEventListener.java\n",
      "\u001b[1;31mCurrent Commit Date\\Time: \u001b[0m2010-02-18 08:22:46\n",
      "\u001b[1;31mThis file has only one commit.\u001b[0m\n",
      "... and 681 more.\n"
     ]
    }
   ],
   "source": [
    "from datetime import datetime\n",
    "from datetime import date\n",
    "# print(\"Number of commits in between:\", len(log_data))\n",
    "i=0\n",
    "for file in files: \n",
    "    i=i+1\n",
    "    if(i==6):\n",
    "        break\n",
    "    print('\\x1b[1;31m'+\"File Name: \"+'\\x1b[0m'+file)\n",
    "    log_data = repo.git.log(mostFrequent,file).splitlines()\n",
    "    commit_number = 0\n",
    "    date1 = datetime.now()\n",
    "    date2 = datetime.now()\n",
    "    for line in log_data:\n",
    "        if(line[0:8] == \"Date:   \"):\n",
    "            commit_number=commit_number+1\n",
    "            if(commit_number ==1):\n",
    "                date1 = datetime.strptime(line[8:32], '%a %b %d %H:%M:%S %Y')\n",
    "                print('\\x1b[1;31m'+\"Current Commit Date\\Time: \"+'\\x1b[0m'+str(date1))\n",
    "                continue\n",
    "            if(commit_number ==2):\n",
    "                date2 = datetime.strptime(line[8:32], '%a %b %d %H:%M:%S %Y')\n",
    "                print('\\x1b[1;31m'+\"Previous Commit Date\\Time: \"+'\\x1b[0m'+str(date2))\n",
    "                break\n",
    "    if(commit_number == 1):\n",
    "        print('\\x1b[1;31m'+\"This file has only one commit.\"+'\\x1b[0m')\n",
    "    else:\n",
    "        print('\\x1b[1;31m'+\"Time Difference: \"+'\\x1b[0m'+str(date1-date2))\n",
    "        print(\"===\")\n",
    "print(\"... and \"+str(len(files)-5) + \" more.\")\n",
    "\n"
   ]
  },
  {
   "cell_type": "markdown",
   "metadata": {},
   "source": [
    "##### i) Number of times each affected file of the current fixing commit been modified in the VCC\n"
   ]
  },
  {
   "cell_type": "code",
   "execution_count": 41,
   "metadata": {},
   "outputs": [
    {
     "name": "stdout",
     "output_type": "stream",
     "text": [
      "\u001b[1;31mFile Name: \u001b[0mxwork-core/pom.xml\n",
      "\u001b[1;31mNumber of Revisions including renaming: \u001b[0m1\n",
      "====\n",
      "\u001b[1;31mFile Name: \u001b[0mxwork-core/src/main/java/com/opensymphony/xwork2/Action.java\n",
      "\u001b[1;31mNumber of Revisions including renaming: \u001b[0m1\n",
      "====\n",
      "\u001b[1;31mFile Name: \u001b[0mxwork-core/src/main/java/com/opensymphony/xwork2/ActionChainResult.java\n",
      "\u001b[1;31mNumber of Revisions including renaming: \u001b[0m1\n",
      "====\n",
      "\u001b[1;31mFile Name: \u001b[0mxwork-core/src/main/java/com/opensymphony/xwork2/ActionContext.java\n",
      "\u001b[1;31mNumber of Revisions including renaming: \u001b[0m1\n",
      "====\n",
      "\u001b[1;31mFile Name: \u001b[0mxwork-core/src/main/java/com/opensymphony/xwork2/ActionEventListener.java\n",
      "\u001b[1;31mNumber of Revisions including renaming: \u001b[0m1\n",
      "====\n",
      "... and 681 more.\n"
     ]
    }
   ],
   "source": [
    "i=0\n",
    "for file in files: \n",
    "    i=i+1\n",
    "    if(i==6):\n",
    "        break\n",
    "    print('\\x1b[1;31m'+\"File Name: \"+'\\x1b[0m'+file)\n",
    "    log_data = repo.git.log(mostFrequent,\"--pretty=\\\"format:%H%M%S\\\"\", \"--\",file).splitlines()\n",
    "    print('\\x1b[1;31m'+\"Number of Revisions including renaming: \"+'\\x1b[0m'+str(len(log_data)))\n",
    "    print(\"====\")\n",
    "print(\"... and \"+str(len(files)-5) + \" more.\")"
   ]
  },
  {
   "cell_type": "markdown",
   "metadata": {},
   "source": [
    "##### j) Developers that have modified each affected files since creation up to the VCC"
   ]
  },
  {
   "cell_type": "code",
   "execution_count": 42,
   "metadata": {},
   "outputs": [
    {
     "name": "stdout",
     "output_type": "stream",
     "text": [
      "\u001b[1;31mFile Name: \u001b[0mxwork-core/pom.xml\n",
      "\u001b[1;31mContributors of the file: \u001b[0m\n",
      "Lukasz Lenart\n",
      "\n",
      "\u001b[1;31mFile Name: \u001b[0mxwork-core/src/main/java/com/opensymphony/xwork2/Action.java\n",
      "\u001b[1;31mContributors of the file: \u001b[0m\n",
      "Lukasz Lenart\n",
      "\n",
      "\u001b[1;31mFile Name: \u001b[0mxwork-core/src/main/java/com/opensymphony/xwork2/ActionChainResult.java\n",
      "\u001b[1;31mContributors of the file: \u001b[0m\n",
      "Lukasz Lenart\n",
      "\n",
      "\u001b[1;31mFile Name: \u001b[0mxwork-core/src/main/java/com/opensymphony/xwork2/ActionContext.java\n",
      "\u001b[1;31mContributors of the file: \u001b[0m\n",
      "Lukasz Lenart\n",
      "\n",
      "\u001b[1;31mFile Name: \u001b[0mxwork-core/src/main/java/com/opensymphony/xwork2/ActionEventListener.java\n",
      "\u001b[1;31mContributors of the file: \u001b[0m\n",
      "Lukasz Lenart\n",
      "\n",
      "... and 681 more.\n"
     ]
    }
   ],
   "source": [
    "i=0\n",
    "\n",
    "for file in files: \n",
    "    i=i+1\n",
    "    if(i==6):\n",
    "        break\n",
    "    print('\\x1b[1;31m'+\"File Name: \"+'\\x1b[0m'+file)\n",
    "    print('\\x1b[1;31m'+\"Contributors of the file: \"+'\\x1b[0m')\n",
    "    log_data = repo.git.log(mostFrequent,\"--pretty=format:%an\", \"--follow\", \"--\",file).splitlines()\n",
    "#     print('\\x1b[1;31m'+\"Number of Revisions including renaming: \"+'\\x1b[0m'+str(len(log_data)))\n",
    "#     print(log_data)\n",
    "    x = np.array(log_data) \n",
    "    uniqueNames = np.unique(x)\n",
    "    for name in uniqueNames:\n",
    "        print(name) \n",
    "    print()\n",
    "print(\"... and \"+str(len(files)-5) + \" more.\")"
   ]
  },
  {
   "cell_type": "markdown",
   "metadata": {},
   "source": [
    "##### k) Observations about the developers of the VCC"
   ]
  },
  {
   "cell_type": "code",
   "execution_count": 43,
   "metadata": {},
   "outputs": [
    {
     "name": "stdout",
     "output_type": "stream",
     "text": [
      "\u001b[1;34mAccording to the number of commits of the developers, we can see the majority of the developers are new.\u001b[0m\n",
      "\u001b[1;34mThe number of developers with at least 450 commits is 3.\u001b[0m\n",
      "\u001b[1;34mThe number of developers with less than 450 commits is 95.\u001b[0m\n"
     ]
    }
   ],
   "source": [
    "commit_authors = repo.git.shortlog(\"-sne\", \"--all\").splitlines()\n",
    "\n",
    "author_commits = []\n",
    "\n",
    "for commit_author in commit_authors:\n",
    "    commit, author = commit_author.split(\"\\t\")\n",
    "    author_commits.append([int(commit), author])\n",
    "devs_above_450 = 0\n",
    "devs_below_450 = 0\n",
    "for item in author_commits:\n",
    "    if(item[0]>=450):\n",
    "        devs_above_450 = devs_above_450+1\n",
    "    else:\n",
    "        devs_below_450 = devs_below_450+1\n",
    "exp_level=\"new\"\n",
    "if(devs_above_450>devs_below_450):\n",
    "    exp_level = \"experienced\"\n",
    "    \n",
    "print('\\x1b[1;34m'+\"According to the number of commits of the developers, we can see the majority of the developers are \"+exp_level+\".\"+'\\x1b[0m')\n",
    "print('\\x1b[1;34m'+\"The number of developers with at least 450 commits is \"+str(devs_above_450)+\".\"+'\\x1b[0m')\n",
    "print('\\x1b[1;34m'+\"The number of developers with less than 450 commits is \"+str(devs_below_450)+\".\"+'\\x1b[0m')\n",
    "\n"
   ]
  },
  {
   "cell_type": "code",
   "execution_count": null,
   "metadata": {},
   "outputs": [],
   "source": []
  }
 ],
 "metadata": {
  "kernelspec": {
   "display_name": "Python 3",
   "language": "python",
   "name": "python3"
  },
  "language_info": {
   "codemirror_mode": {
    "name": "ipython",
    "version": 3
   },
   "file_extension": ".py",
   "mimetype": "text/x-python",
   "name": "python",
   "nbconvert_exporter": "python",
   "pygments_lexer": "ipython3",
   "version": "3.7.4"
  }
 },
 "nbformat": 4,
 "nbformat_minor": 2
}
